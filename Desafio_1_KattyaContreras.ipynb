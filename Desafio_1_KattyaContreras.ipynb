{
 "cells": [
  {
   "cell_type": "markdown",
   "id": "c9e5a6e9-8805-494e-a9d2-5f50b94bb5e8",
   "metadata": {},
   "source": [
    "1. Calculando el salario semanal\n",
    "Un vendedor gana un salario base de $500 más una comisión del 10% sobre sus\n",
    "ventas totales. Escribe un programa donde se pueda ingresar el monto de las ventas\n",
    "totales del vendedor y calcule su salario total."
   ]
  },
  {
   "cell_type": "code",
   "execution_count": 1,
   "id": "7b789aa4-62b3-4c87-b19a-0b7164a5bbcc",
   "metadata": {},
   "outputs": [],
   "source": [
    "# En este programa se debe calcular el salario total de un vendedor basado en un salario base y comisiones."
   ]
  },
  {
   "cell_type": "code",
   "execution_count": null,
   "id": "160b8f92-28ff-44ae-942f-2defa1fdad22",
   "metadata": {},
   "outputs": [],
   "source": [
    "# Se ingresa el monto total de las ventas"
   ]
  },
  {
   "cell_type": "code",
   "execution_count": 2,
   "id": "4477f5e4-3b13-44fb-be3b-2d1adba19904",
   "metadata": {},
   "outputs": [
    {
     "name": "stdin",
     "output_type": "stream",
     "text": [
      "Ingrese el monto de las ventas totales:  4000\n"
     ]
    }
   ],
   "source": [
    "ventas_totales = float(input(\"Ingrese el monto de las ventas totales: \"))"
   ]
  },
  {
   "cell_type": "code",
   "execution_count": null,
   "id": "bbfff599-1a60-4326-82a7-c4a799f7869e",
   "metadata": {},
   "outputs": [],
   "source": [
    "# Se declara el salario base y el porcentaje de comisión"
   ]
  },
  {
   "cell_type": "code",
   "execution_count": 3,
   "id": "dda97775-6250-40b1-a8d4-bd5d064f9aa2",
   "metadata": {},
   "outputs": [],
   "source": [
    "salario_base = 500"
   ]
  },
  {
   "cell_type": "code",
   "execution_count": 5,
   "id": "aaac7a4b-b8bf-4a20-8592-d47a7726bc43",
   "metadata": {},
   "outputs": [],
   "source": [
    "comision = 0.10 # Comisión declarada en el ejercicio"
   ]
  },
  {
   "cell_type": "code",
   "execution_count": null,
   "id": "c473a9a1-86cc-4507-998f-58402c7a0f17",
   "metadata": {},
   "outputs": [],
   "source": [
    "# Se procede a calcular el salario"
   ]
  },
  {
   "cell_type": "code",
   "execution_count": 6,
   "id": "34075e44-7e1a-4c15-bbdd-c9bbc4b28e02",
   "metadata": {},
   "outputs": [],
   "source": [
    "salario_total = salario_base + (ventas_totales * comision)"
   ]
  },
  {
   "cell_type": "code",
   "execution_count": 8,
   "id": "bb8acaac-8e3e-4121-add8-400128761d77",
   "metadata": {},
   "outputs": [
    {
     "name": "stdout",
     "output_type": "stream",
     "text": [
      "El salario total del vendedor es: $900.00\n"
     ]
    }
   ],
   "source": [
    "print(f\"El salario total del vendedor es: ${salario_total:.2f}\")"
   ]
  },
  {
   "cell_type": "markdown",
   "id": "a534417e-3926-4db4-93d2-d83964cb1636",
   "metadata": {},
   "source": [
    "Explicación: Se usa input para capturar las ventas totales. Se define un salario base y un porcentaje de comisión como variables. Se realiza el cálculo del salario total y se imprime con formato adecuado."
   ]
  },
  {
   "cell_type": "markdown",
   "id": "60fb27ea-c1d3-4280-9ed8-8103ffb1c22e",
   "metadata": {},
   "source": [
    "2. Bienvenido a la frutería virtual\n",
    "En este ejercicio, vamos a crear un diccionario vacío llamado catalogo_frutas {'fruta':\n",
    "precio} y agregar algunas frutas con sus precios. Luego, le pediremos al usuario que\n",
    "ingrese el nombre de una fruta y verificaremos si esa fruta está en el diccionario. Si\n",
    "la fruta está en el diccionario, mostraremos el precio al usuario. Si la fruta no está en\n",
    "el diccionario, le diremos al usuario que no se encuentra esa fruta en nuestra tienda."
   ]
  },
  {
   "cell_type": "code",
   "execution_count": 13,
   "id": "b6fe4c36-69ad-4c99-8cf2-b0620d9132de",
   "metadata": {},
   "outputs": [],
   "source": [
    "# Se crea un diccionario vacío para almacenar las frutas y sus precios."
   ]
  },
  {
   "cell_type": "code",
   "execution_count": 15,
   "id": "fd5c9756-0453-48f5-abff-4ade713614e9",
   "metadata": {},
   "outputs": [],
   "source": [
    "catalogo_frutas = {}"
   ]
  },
  {
   "cell_type": "code",
   "execution_count": 16,
   "id": "32bd1194-46f4-4d4e-a90b-1a8e37b44eeb",
   "metadata": {},
   "outputs": [],
   "source": [
    "# Se agregan las frutas con sus respectivos precios."
   ]
  },
  {
   "cell_type": "code",
   "execution_count": 19,
   "id": "4f292ad6-07d1-4f56-b98b-1ab286483cf2",
   "metadata": {},
   "outputs": [],
   "source": [
    "catalogo_frutas[\"manzana\"] = 800\n",
    "catalogo_frutas[\"platano\"] = 500\n",
    "catalogo_frutas[\"naranja\"] = 1000"
   ]
  },
  {
   "cell_type": "code",
   "execution_count": 20,
   "id": "1e7e68bd-a031-47d9-ad7a-216d2f145d35",
   "metadata": {},
   "outputs": [
    {
     "data": {
      "text/plain": [
       "{'manzana': 800, 'platano': 500, 'naranja': 1000}"
      ]
     },
     "execution_count": 20,
     "metadata": {},
     "output_type": "execute_result"
    }
   ],
   "source": [
    "catalogo_frutas"
   ]
  },
  {
   "cell_type": "code",
   "execution_count": 21,
   "id": "d34c49d0-5ee3-4a60-98df-79929bc0996c",
   "metadata": {},
   "outputs": [],
   "source": [
    "# Se le pide al usuario ingresar el nombre de una fruta."
   ]
  },
  {
   "cell_type": "code",
   "execution_count": 28,
   "id": "105a5ce6-875c-4b0e-8b0f-d83cde1a42dc",
   "metadata": {},
   "outputs": [
    {
     "name": "stdin",
     "output_type": "stream",
     "text": [
      "Ingrese el nombre de la fruta que desea buscar:  manzana\n"
     ]
    }
   ],
   "source": [
    "fruta_buscada = input(\"Ingrese el nombre de la fruta que desea buscar: \").lower()"
   ]
  },
  {
   "cell_type": "code",
   "execution_count": 24,
   "id": "d4228f6b-9260-420e-b6c4-8ae428eb66f6",
   "metadata": {},
   "outputs": [],
   "source": [
    "# Se debe verificar si la fruta está en el catálogo."
   ]
  },
  {
   "cell_type": "code",
   "execution_count": 29,
   "id": "038481b6-45ff-48ea-9522-2fa8f10a6281",
   "metadata": {},
   "outputs": [
    {
     "name": "stdout",
     "output_type": "stream",
     "text": [
      "El precio de manzana es: $800\n"
     ]
    }
   ],
   "source": [
    "if fruta_buscada in catalogo_frutas:\n",
    "    print(f\"El precio de {fruta_buscada} es: ${catalogo_frutas[fruta_buscada]}\")\n",
    "else:\n",
    "    print(\"Lo sentimos, esa fruta no está en nuestra tienda.\")"
   ]
  },
  {
   "cell_type": "markdown",
   "id": "361ef59d-e8c9-4ea5-8fde-3573041af02d",
   "metadata": {},
   "source": [
    "Se crea un diccionario llamado catalogo_frutas y se añaden los elementos (clave-valor). Se utiliza el método .lower() para evitar problemas con mayúsculas/minúsculas.Finalmente se Valida si la fruta buscada existe en el diccionario con in."
   ]
  },
  {
   "cell_type": "markdown",
   "id": "ed9033a3-b4d5-4f26-8e0d-d1005889f1b4",
   "metadata": {},
   "source": [
    "3. Bienvenido al casino\n",
    "En este juego, tienes que lanzar dos dados y el programa mostrará los valores\n",
    "obtenidos en cada dado y la suma de ambos valores. Debes generar dos números\n",
    "aleatorios entre 1 y 6 que representan los valores obtenidos en cada dado usando la\n",
    "librería random. Luego, el programa debe mostrar los valores obtenidos en cada\n",
    "dado y la suma de ambos valores en la pantalla."
   ]
  },
  {
   "cell_type": "code",
   "execution_count": 30,
   "id": "b4b674bb-d5f4-420c-933e-2cd1a6cd0519",
   "metadata": {},
   "outputs": [],
   "source": [
    "import random"
   ]
  },
  {
   "cell_type": "code",
   "execution_count": 31,
   "id": "4b4b3fb7-04b6-4d13-8c7e-f9435bf4ead2",
   "metadata": {},
   "outputs": [],
   "source": [
    "# Se generan dos números aleatorios entre 1 y 6 (simulando dos dados como indica el ejercicio)"
   ]
  },
  {
   "cell_type": "code",
   "execution_count": 32,
   "id": "33dfa7c0-5faa-4c4b-8342-11d1da33691d",
   "metadata": {},
   "outputs": [],
   "source": [
    "dado1 = random.randint(1, 6)"
   ]
  },
  {
   "cell_type": "code",
   "execution_count": 33,
   "id": "89b53b03-7cf3-42b5-9db3-fd04e022aa67",
   "metadata": {},
   "outputs": [],
   "source": [
    "dado2 = random.randint(1, 6)"
   ]
  },
  {
   "cell_type": "code",
   "execution_count": 34,
   "id": "09901381-583f-46b0-a7a8-3c62e60df215",
   "metadata": {},
   "outputs": [],
   "source": [
    "# Se calcula la suma de ambos dados"
   ]
  },
  {
   "cell_type": "code",
   "execution_count": 35,
   "id": "472798fd-34a9-4044-9b61-56c45b9f230f",
   "metadata": {},
   "outputs": [],
   "source": [
    "suma_dados = dado1 + dado2"
   ]
  },
  {
   "cell_type": "code",
   "execution_count": 36,
   "id": "e05c0b92-cd11-4c75-9850-0fc31d169e04",
   "metadata": {},
   "outputs": [],
   "source": [
    "# Se muestran los valores y la suma de lo anterior."
   ]
  },
  {
   "cell_type": "code",
   "execution_count": 37,
   "id": "aa24d02a-6363-4db1-b5c7-b4be6167e801",
   "metadata": {},
   "outputs": [
    {
     "name": "stdout",
     "output_type": "stream",
     "text": [
      "El primer dado muestra: 1\n",
      "El segundo dado muestra: 3\n",
      "La suma de los dos dados es: 4\n"
     ]
    }
   ],
   "source": [
    "print(f\"El primer dado muestra: {dado1}\")\n",
    "print(f\"El segundo dado muestra: {dado2}\")\n",
    "print(f\"La suma de los dos dados es: {suma_dados}\")"
   ]
  },
  {
   "cell_type": "markdown",
   "id": "49d42dc7-b5dc-4748-82cd-1363cae22141",
   "metadata": {},
   "source": [
    "Explicación: Se parte por la importación de la librería random para usar randint, que genera números aleatorios. Se simulan dos lanzamientos de dados y se suman los valores que estos den. Finalmente se muestra el resultado en pantalla."
   ]
  },
  {
   "cell_type": "markdown",
   "id": "a6846016-ae19-48af-9c5f-dff3bb8faa60",
   "metadata": {},
   "source": [
    "4. Calculadora de chocolate. Crea un programa que calcule la cantidad de chocolate que puedes comer sin\n",
    "pasarte de tu límite diario de calorías. El programa debe preguntar al usuario su\n",
    "límite diario de calorías y la cantidad de calorías que tiene una porción de chocolate.\n",
    "Luego, debe calcular la cantidad máxima de chocolate que se puede comer sin\n",
    "exceder el límite diario de calorías y mostrarla en pantalla"
   ]
  },
  {
   "cell_type": "code",
   "execution_count": 39,
   "id": "0c321051-af15-46e6-a631-82d061563b7b",
   "metadata": {},
   "outputs": [],
   "source": [
    "# Se pide al usuario ingresar su límite diario de calorías."
   ]
  },
  {
   "cell_type": "code",
   "execution_count": 40,
   "id": "5d9de69e-3e16-442f-9039-408a73e3ebbe",
   "metadata": {},
   "outputs": [
    {
     "name": "stdin",
     "output_type": "stream",
     "text": [
      "Ingrese su límite diario de calorías:  1500\n"
     ]
    }
   ],
   "source": [
    "limite_calorias = int(input(\"Ingrese su límite diario de calorías: \"))"
   ]
  },
  {
   "cell_type": "code",
   "execution_count": 41,
   "id": "841a2869-d9a2-434b-90c9-eb87896ba6fd",
   "metadata": {},
   "outputs": [],
   "source": [
    "# Se le pide al usuario ingresar la cantidad de calorías por porción de chocolate."
   ]
  },
  {
   "cell_type": "code",
   "execution_count": 42,
   "id": "ecafbcf5-77a3-4489-a6d0-abd4c02095e0",
   "metadata": {},
   "outputs": [
    {
     "name": "stdin",
     "output_type": "stream",
     "text": [
      "Ingrese la cantidad de calorías por porción de chocolate:  100\n"
     ]
    }
   ],
   "source": [
    "calorias_por_porcion = int(input(\"Ingrese la cantidad de calorías por porción de chocolate: \"))"
   ]
  },
  {
   "cell_type": "code",
   "execution_count": 43,
   "id": "ed165494-8e38-41b5-afed-2632fab8c38d",
   "metadata": {},
   "outputs": [],
   "source": [
    "# Se procede a calcular la cantidad máxima de porciones que puede consumir sin exceder el límite."
   ]
  },
  {
   "cell_type": "code",
   "execution_count": 44,
   "id": "20c8f5a0-5a8e-48c4-9b12-84a5538fd464",
   "metadata": {},
   "outputs": [],
   "source": [
    "max_porciones = limite_calorias // calorias_por_porcion"
   ]
  },
  {
   "cell_type": "code",
   "execution_count": 45,
   "id": "0adc3af3-f606-4929-b98c-e35a1abe13b6",
   "metadata": {},
   "outputs": [],
   "source": [
    "# Se muestra el resultado"
   ]
  },
  {
   "cell_type": "code",
   "execution_count": 46,
   "id": "7de099e0-6454-448a-ab61-53901b969a20",
   "metadata": {},
   "outputs": [
    {
     "name": "stdout",
     "output_type": "stream",
     "text": [
      "Puede comer un máximo de 15 porciones de chocolate sin exceder su límite diario.\n"
     ]
    }
   ],
   "source": [
    "print(f\"Puede comer un máximo de {max_porciones} porciones de chocolate sin exceder su límite diario.\")"
   ]
  },
  {
   "cell_type": "markdown",
   "id": "5639e99c-1c4c-409e-95c6-04cd0809c865",
   "metadata": {},
   "source": [
    "Explicación: Se solicita al usuario el límite diario de calorías y las calorías por porción. Se usa la división entera // para determinar cuántas porciones completas puede consumir.\n",
    "    Se muestra el resultado de forma clara."
   ]
  }
 ],
 "metadata": {
  "kernelspec": {
   "display_name": "Python 3 (ipykernel)",
   "language": "python",
   "name": "python3"
  },
  "language_info": {
   "codemirror_mode": {
    "name": "ipython",
    "version": 3
   },
   "file_extension": ".py",
   "mimetype": "text/x-python",
   "name": "python",
   "nbconvert_exporter": "python",
   "pygments_lexer": "ipython3",
   "version": "3.13.1"
  }
 },
 "nbformat": 4,
 "nbformat_minor": 5
}
