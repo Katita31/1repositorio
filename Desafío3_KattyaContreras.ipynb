{
 "cells": [
  {
   "cell_type": "markdown",
   "id": "fb21ddcc-9190-40fb-84d2-49228d5c313e",
   "metadata": {},
   "source": [
    "Ejercicio 1: Usando la siguiente lista.\n",
    "\n",
    "lista = [\"manzana\", \"pera\", \"naranja\", \"plátano\", \"kiwi\", \"uva\", \"piña\",\n",
    "\"mango\", \"sandía\", \"melón\"]\n",
    "\n",
    "Ejercicios a desarrollar en Jupyter:\n",
    "\n",
    "a. Imprime el quinto elemento de la lista.\n",
    "b. Imprime del cuarto al sexto elemento inclusive.\n",
    "c. Elimina el elemento en la posición 3.\n",
    "d. Agrega dos nuevos elementos a la lista.\n",
    "e. Ordena la lista alfabéticamente.\n",
    "f. Genera un diccionario usando lista1 como llaves y lista como valores."
   ]
  },
  {
   "cell_type": "code",
   "execution_count": 19,
   "id": "d994a943-667e-4367-9770-d1c7046eb17a",
   "metadata": {},
   "outputs": [],
   "source": [
    "#Creación lista inicial\n",
    "lista = [\"manzana\", \"pera\", \"naranja\", \"plátano\", \"kiwi\", \"uva\", \"piña\", \"mango\", \"sandía\", \"melón\"]"
   ]
  },
  {
   "cell_type": "code",
   "execution_count": 4,
   "id": "5ec3521d-f0b6-48a3-ad4c-a2e931931bb4",
   "metadata": {},
   "outputs": [
    {
     "name": "stdout",
     "output_type": "stream",
     "text": [
      "a. El quinto elemento es: kiwi\n"
     ]
    }
   ],
   "source": [
    "# a. Imprime el quinto elemento de la lista\n",
    "print(\"a. El quinto elemento es:\", lista[4])  # Se usa el índice 4 ya que Python comienza desde 0."
   ]
  },
  {
   "cell_type": "code",
   "execution_count": 5,
   "id": "8b32cd38-5272-477a-bdd5-a040ff49a8ac",
   "metadata": {},
   "outputs": [
    {
     "name": "stdout",
     "output_type": "stream",
     "text": [
      "b. Elementos del cuarto al sexto: ['plátano', 'kiwi', 'uva']\n"
     ]
    }
   ],
   "source": [
    "# b. Imprime del cuarto al sexto inclusive\n",
    "print(\"b. Elementos del cuarto al sexto:\", lista[3:6])  # Índices de 3 a 5, el 6 no se incluye."
   ]
  },
  {
   "cell_type": "code",
   "execution_count": 20,
   "id": "5289e351-d789-4bd2-b92c-8e544ebacc26",
   "metadata": {},
   "outputs": [
    {
     "name": "stdout",
     "output_type": "stream",
     "text": [
      "c. Lista después de eliminar el tercer elemento: ['manzana', 'pera', 'plátano', 'kiwi', 'uva', 'piña', 'mango', 'sandía', 'melón']\n"
     ]
    }
   ],
   "source": [
    "# c. Elimina el elemento en la posición 2\n",
    "del lista[2]  # Se elimina el tercer elemento (índice 2).\n",
    "print(\"c. Lista después de eliminar el tercer elemento:\", lista)"
   ]
  },
  {
   "cell_type": "code",
   "execution_count": 21,
   "id": "ac36b951-ab94-4424-9fbd-ef46d4ff51ba",
   "metadata": {},
   "outputs": [
    {
     "name": "stdout",
     "output_type": "stream",
     "text": [
      "d. Lista después de agregar dos elementos: ['manzana', 'pera', 'plátano', 'kiwi', 'uva', 'piña', 'mango', 'sandía', 'melón', 'durazno', 'granada']\n"
     ]
    }
   ],
   "source": [
    "# d. Agrega dos nuevos elementos\n",
    "lista.append(\"durazno\")  # Agregamos un nuevo elemento al final.\n",
    "lista.append(\"granada\")  # Agregamos otro elemento al final.\n",
    "print(\"d. Lista después de agregar dos elementos:\", lista)"
   ]
  },
  {
   "cell_type": "code",
   "execution_count": 22,
   "id": "daa3409b-4cb2-4c61-b25a-02b50d004173",
   "metadata": {},
   "outputs": [
    {
     "name": "stdout",
     "output_type": "stream",
     "text": [
      "e. Lista ordenada alfabéticamente: ['durazno', 'granada', 'kiwi', 'mango', 'manzana', 'melón', 'pera', 'piña', 'plátano', 'sandía', 'uva']\n"
     ]
    }
   ],
   "source": [
    "# e. Ordena la lista alfabéticamente\n",
    "lista.sort()  # Ordena la lista en orden ascendente.\n",
    "print(\"e. Lista ordenada alfabéticamente:\", lista)"
   ]
  },
  {
   "cell_type": "code",
   "execution_count": 23,
   "id": "f06d50bc-3896-489d-aef8-38fb5a402423",
   "metadata": {},
   "outputs": [
    {
     "name": "stdout",
     "output_type": "stream",
     "text": [
      "f. Diccionario generado: {'uno': 'durazno', 'dos': 'granada', 'tres': 'kiwi', 'cuatro': 'mango', 'cinco': 'manzana', 'seis': 'melón', 'siete': 'pera', 'ocho': 'piña', 'nueve': 'plátano', 'diez': 'sandía'}\n"
     ]
    }
   ],
   "source": [
    "# f. Genera un diccionario usando lista1 como llaves y lista como valores\n",
    "lista1 = [\"uno\", \"dos\", \"tres\", \"cuatro\", \"cinco\", \"seis\", \"siete\", \"ocho\", \"nueve\", \"diez\"]\n",
    "diccionario = dict(zip(lista1, lista))  # Asocia cada llave con su valor correspondiente.\n",
    "print(\"f. Diccionario generado:\", diccionario)"
   ]
  },
  {
   "cell_type": "markdown",
   "id": "a12da4f7-a0e7-462a-8de9-8ff4829e6e5b",
   "metadata": {},
   "source": [
    "Comentarios y explicación ejercicios del A al F:\n",
    "\n",
    "    -Se utilizan índices para acceder a elementos específicos y segmentos de la lista trabajada en el desafio.\n",
    "    -del permite eliminar un elemento por su posición.\n",
    "    -.append() ayuda a agregar elementos al final.\n",
    "    -.sort() permite organizar la lista en orden alfabético.\n",
    "    -zip ayuda a combinar dos listas en pares y dict convierte estos pares en un diccionario."
   ]
  },
  {
   "cell_type": "markdown",
   "id": "d8938e43-190b-413b-a43b-9e38c08be214",
   "metadata": {},
   "source": [
    "2. Fabricación de cerveza artesanal\n",
    "   \n",
    "El LIC y el LSC son calculados utilizando la media y la desviación estándar de los datos del proceso. La idea es que la mayoría de los datos del proceso se encuentren dentro de los límites de control (entre el LIC y el LSC), y si un dato cae fuera de estos límites, se puede considerar que el proceso está fuera de control y se requiere una acción correctiva para investigar y corregir la causa de la variación. El valor del LIC se calcula como la media menos tres veces la desviación estándar, y el valor del LSC se calcula como la media más tres veces la desviación estándar. Estos límites representan el rango en el que la mayoría de los datos del proceso deberían estar.\n",
    "\n",
    "Para poder asegurar de que la cantidad de alcohol en cada lote de cerveza sea consistente, debes medir el porcentaje de alcohol de cada lote y registrar los datos en una hoja de cálculo. Esta información ya ha sido recolectada y se encuentra en el archivo alcohol_cerveza.csv. El objetivo del ejercicio es calcular la media, la desviación estándar, el LIC y el LSC del porcentaje de alcohol y guardarlos en variables. Para asegurarte de que los lotes de cerveza se estén elaborando de forma consistente y que el nivel de alcohol sea el adecuado, una vez calculadas las medidas anteriores, indicar cuáles\n",
    "valores quedarían fuera de los límites de control y cuántos son."
   ]
  },
  {
   "cell_type": "code",
   "execution_count": 38,
   "id": "a8569f53-6ce7-4b31-8b02-ffa9be0c91b2",
   "metadata": {},
   "outputs": [],
   "source": [
    "# Importamos la librería NumPy\n",
    "import numpy as np"
   ]
  },
  {
   "cell_type": "code",
   "execution_count": 39,
   "id": "003c257d-3880-4aa7-8dff-3e9110e65ebe",
   "metadata": {},
   "outputs": [
    {
     "name": "stdout",
     "output_type": "stream",
     "text": [
      "[0.   5.06 4.29 ... 4.68 5.12 4.92]\n"
     ]
    }
   ],
   "source": [
    "# Cargar datos del archivo CSV (sin delimitador explícito)\n",
    "datos = np.loadtxt('alcohol_cerveza.csv')\n",
    "\n",
    "print(datos)"
   ]
  },
  {
   "cell_type": "markdown",
   "id": "902529c9-8006-4513-99c1-f16ced6e0516",
   "metadata": {},
   "source": [
    "# Calculamos la media y desviación estándar"
   ]
  },
  {
   "cell_type": "code",
   "execution_count": 41,
   "id": "2289c6a0-fbf1-4b78-bbab-d91055f2785a",
   "metadata": {},
   "outputs": [],
   "source": [
    "media = datos.mean()"
   ]
  },
  {
   "cell_type": "code",
   "execution_count": 33,
   "id": "7ee1dc77-3180-4896-89bc-135f53d37474",
   "metadata": {},
   "outputs": [],
   "source": [
    "desviacion = datos.std()"
   ]
  },
  {
   "cell_type": "code",
   "execution_count": 34,
   "id": "94f162a0-0802-486c-bd95-f23a1e494409",
   "metadata": {},
   "outputs": [],
   "source": [
    "# Calculamos LIC \n",
    "lic = media - (3*desviacion)"
   ]
  },
  {
   "cell_type": "code",
   "execution_count": 35,
   "id": "37a5a7a0-e86c-402f-afdb-89f374790896",
   "metadata": {},
   "outputs": [],
   "source": [
    "# Calculamos LSC\n",
    "lsc = media + (3*desviacion)"
   ]
  },
  {
   "cell_type": "code",
   "execution_count": 36,
   "id": "7c23e04a-ed1c-4859-95db-aad8b13f65cf",
   "metadata": {},
   "outputs": [
    {
     "name": "stdout",
     "output_type": "stream",
     "text": [
      "Media: 5.005334665334665\n",
      "Desviación estándar: 0.34934892044901755\n",
      "LIC (Límite Inferior de Control): 3.9572879039876123\n",
      "LSC (Límite Superior de Control): 6.053381426681717\n"
     ]
    }
   ],
   "source": [
    "# Imprimimos los resultados\n",
    "\n",
    "print(\"Media:\", media)\n",
    "print(\"Desviación estándar:\", desviacion)\n",
    "print(\"LIC (Límite Inferior de Control):\", lic)\n",
    "print(\"LSC (Límite Superior de Control):\", lsc)"
   ]
  },
  {
   "cell_type": "code",
   "execution_count": 37,
   "id": "55167e23-278a-4bc4-9b80-26f7f7437fd2",
   "metadata": {},
   "outputs": [],
   "source": [
    "# Se filtran los valores fuera de los límites de control\n",
    "\n",
    "condicion_fuera_lic = datos < lic  # Valores menores al límite inferior\n",
    "condicion_fuera_lsc = datos > lsc  # Valores mayores al límite superior\n",
    "\n",
    "# Se utiliza el np.logical_or para combinar las condiciones\n",
    "filtro = np.logical_or(condicion_fuera_lic, condicion_fuera_lsc)\n",
    "\n",
    "# Se Aplica el filtro para obtener los datos filtrados fuera del límite de control\n",
    "datos_filtrados = datos[filtro]"
   ]
  },
  {
   "cell_type": "code",
   "execution_count": 36,
   "id": "34782653-34fd-4e18-8b26-18a58b7fd42d",
   "metadata": {},
   "outputs": [
    {
     "data": {
      "text/plain": [
       "array([0.  , 3.87])"
      ]
     },
     "execution_count": 36,
     "metadata": {},
     "output_type": "execute_result"
    }
   ],
   "source": [
    "datos_filtrados"
   ]
  },
  {
   "cell_type": "markdown",
   "id": "9786faca-1456-44d5-b731-3b85dc327588",
   "metadata": {},
   "source": [
    "Explicación:\n",
    "1. NumPy facilita el cálculo de la media y desviación estándar de un conjunto de datos.\n",
    "2. Se calculan los límites de control usando la fórmula estándar: media ± (3 * desviación estándar).\n",
    "3. La función logical_or de NumPy permite filtrar elementos fuera de los límites establecidos.\n",
    "4. Finalmente, los resultados se presentan para evaluar la consistencia del proceso de fabricación."
   ]
  }
 ],
 "metadata": {
  "kernelspec": {
   "display_name": "Python 3 (ipykernel)",
   "language": "python",
   "name": "python3"
  },
  "language_info": {
   "codemirror_mode": {
    "name": "ipython",
    "version": 3
   },
   "file_extension": ".py",
   "mimetype": "text/x-python",
   "name": "python",
   "nbconvert_exporter": "python",
   "pygments_lexer": "ipython3",
   "version": "3.13.1"
  }
 },
 "nbformat": 4,
 "nbformat_minor": 5
}
