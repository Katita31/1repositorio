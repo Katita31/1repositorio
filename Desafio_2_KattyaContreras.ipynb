{
 "cells": [
  {
   "cell_type": "markdown",
   "id": "631cf7a7-0a29-41f7-b668-65e6c2095670",
   "metadata": {},
   "source": [
    "Ejercicio 1: Suma de números pares Escribe un programa que pida al usuario dos números enteros y calcule la suma de todos los números pares entre ellos. El programa deberá imprimir el resultado. (hint: utilice la función range() para generar la secuencia de números enteros)"
   ]
  },
  {
   "cell_type": "code",
   "execution_count": null,
   "id": "6e88f81d-a8b5-4093-9a5d-df0a552426ee",
   "metadata": {},
   "outputs": [],
   "source": [
    "# Paso 1: Pedir al usuario dos números enteros.\n",
    "# Se utiliza la función input() para capturar datos desde el teclado y se convierten a enteros con int().\n",
    "numero1 = int(input(\"Ingresa el primer número entero: \"))\n",
    "numero2 = int(input(\"Ingresa el segundo número entero: \"))\n",
    "\n",
    "# Paso 2: Ordenar los números para asegurar que el rango sea correcto.\n",
    "# Usamos min() y max() para obtener el menor y mayor de los números ingresados.\n",
    "inicio = min(numero1, numero2)\n",
    "fin = max(numero1, numero2)\n",
    "\n",
    "# Paso 3: Generar la secuencia de números pares y calcular la suma.\n",
    "# Utilizamos range() con un paso de 2 para generar números pares y sum() para calcular el total.\n",
    "suma_pares = sum(range(inicio + (inicio % 2), fin + 1, 2))  # Aseguramos que el inicio sea par.\n",
    "\n",
    "# Paso 4: Imprimir el resultado.\n",
    "print(f\"La suma de los números pares entre {numero1} y {numero2} es: {suma_pares}\")\n"
   ]
  },
  {
   "cell_type": "markdown",
   "id": "43818d39-accf-4caf-96e7-6a7ab42b0f63",
   "metadata": {},
   "source": [
    "### Ejercicio 1: Suma de números pares\n",
    "\n",
    "1. **Interacción con el usuario:** Pedimos dos números enteros mediante `input()`, asegurándonos de convertirlos a enteros con `int()`.\n",
    "2. **Organización del rango:** Utilizamos las funciones `min()` y `max()` para determinar el rango correcto entre los dos números ingresados.\n",
    "3. **Cálculo de números pares:** \n",
    "   - Usamos la función `range()` para generar una secuencia de números pares dentro del rango.\n",
    "   - Sumamos la secuencia con `sum()`.\n",
    "4. **Impresión del resultado:** Mostramos el resultado al usuario con un mensaje claro.\n"
   ]
  },
  {
   "cell_type": "markdown",
   "id": "3b42f718-48cc-4597-8423-c4fb009c42bd",
   "metadata": {},
   "source": [
    "Ejercicio 2: Calculadora de áreas. Escribe un programa que pida al usuario el tipo de figura geométrica de la que quiere calcular el área (cuadrado, triángulo o círculo) y las medidas correspondientes. El programa deberá calcular y mostrar el área de la figura seleccionada. (hint: para obtener el número pi puedes utilizar la librería math)."
   ]
  },
  {
   "cell_type": "code",
   "execution_count": null,
   "id": "667d9220-8193-413c-9faa-bfcec27f541a",
   "metadata": {},
   "outputs": [],
   "source": [
    "# Importamos la librería math para usar el valor de π.\n",
    "import math\n",
    "\n",
    "# Paso 1: Solicitar al usuario el tipo de figura geométrica.\n",
    "print(\"Selecciona la figura geométrica para calcular el área:\")\n",
    "print(\"1. Cuadrado\")\n",
    "print(\"2. Triángulo\")\n",
    "print(\"3. Círculo\")\n",
    "opcion = int(input(\"Ingresa el número correspondiente a la figura (1-3): \"))\n",
    "\n",
    "# Paso 2: Calcular el área según la figura seleccionada.\n",
    "if opcion == 1:  # Cuadrado\n",
    "    lado = float(input(\"Ingresa la longitud del lado del cuadrado: \"))\n",
    "    area = lado ** 2\n",
    "    print(f\"El área del cuadrado es: {area:.2f}\")\n",
    "elif opcion == 2:  # Triángulo\n",
    "    base = float(input(\"Ingresa la base del triángulo: \"))\n",
    "    altura = float(input(\"Ingresa la altura del triángulo: \"))\n",
    "    area = (base * altura) / 2\n",
    "    print(f\"El área del triángulo es: {area:.2f}\")\n",
    "elif opcion == 3:  # Círculo\n",
    "    radio = float(input(\"Ingresa el radio del círculo: \"))\n",
    "    area = math.pi * radio ** 2\n",
    "    print(f\"El área del círculo es: {area:.2f}\")\n",
    "else:\n",
    "    print(\"Opción no válida. Por favor, selecciona 1, 2 o 3.\")\n"
   ]
  },
  {
   "cell_type": "markdown",
   "id": "6c410259-8ace-445d-a5e9-b25dbef26b84",
   "metadata": {},
   "source": [
    "### Ejercicio 2: Calculadora de áreas\n",
    "\n",
    "1. **Interacción con el usuario:** Se le solicita seleccionar una figura geométrica mediante un menú.\n",
    "2. **Cálculo del área:**  \n",
    "   - Si elige cuadrado, se calcula con la fórmula \\( \\text{lado}^2 \\).\n",
    "   - Si elige triángulo, se calcula con \\( \\frac{\\text{base} \\times \\text{altura}}{2} \\).\n",
    "   - Si elige círculo, se usa \\( \\pi \\times \\text{radio}^2 \\) obteniendo π desde la librería `math`.\n",
    "3. **Control de opciones:** Se utiliza `if-elif-else` para validar la selección.\n",
    "4. **Resultado:** Se imprime el área con dos decimales.\n"
   ]
  },
  {
   "cell_type": "markdown",
   "id": "0ad9b15e-9d06-4e82-a72e-8b00c73d1f7d",
   "metadata": {},
   "source": [
    "Ejercicio 3: Adivina el número. Escribe un programa que genere un número aleatorio entre 1 y 100 y pida al usuario que adivine cuál es. El programa deberá dar pistas al usuario diciendo si el número que ha introducido es mayor o menor que el número aleatorio. \n",
    "El programa deberá continuar pidiendo números hasta que el usuario adivine el número correcto.\n",
    "(hint: utiliza un ciclo while para mantener al programa pidiendo números)."
   ]
  },
  {
   "cell_type": "code",
   "execution_count": null,
   "id": "efbc9b0e-31cd-431f-833e-557df8beaac2",
   "metadata": {},
   "outputs": [],
   "source": [
    "# Importamos la librería random para generar el número aleatorio.\n",
    "import random\n",
    "\n",
    "# Paso 1: Generar un número aleatorio.\n",
    "numero_secreto = random.randint(1, 100)\n",
    "print(\"¡He pensado en un número entre 1 y 100! ¿Puedes adivinar cuál es?\")\n",
    "\n",
    "# Paso 2: Bucle para que el usuario intente adivinar.\n",
    "while True:\n",
    "    intento = int(input(\"Ingresa tu suposición: \"))\n",
    "    if intento < numero_secreto:\n",
    "        print(\"El número es mayor. ¡Inténtalo de nuevo!\")\n",
    "    elif intento > numero_secreto:\n",
    "        print(\"El número es menor. ¡Inténtalo de nuevo!\")\n",
    "    else:\n",
    "        print(f\"¡Felicidades! Has adivinado el número {numero_secreto}.\")\n",
    "        break\n"
   ]
  },
  {
   "cell_type": "markdown",
   "id": "d3997b8d-4703-4e10-8489-e1ef97a8b2d5",
   "metadata": {},
   "source": [
    "### Ejercicio 3: Adivina el número\n",
    "\n",
    "1. **Generación del número aleatorio:** Usamos `random.randint(1, 100)` para generar un número secreto.\n",
    "2. **Ciclo `while`:** Se ejecuta continuamente hasta que el usuario adivine el número.\n",
    "3. **Pistas:**  \n",
    "   - Si el número ingresado es menor, se indica \"mayor\".\n",
    "   - Si es mayor, se indica \"menor\".\n",
    "4. **Finalización:** Cuando el usuario adivina correctamente, se rompe el bucle con `break` y se felicita al jugador."
   ]
  },
  {
   "cell_type": "markdown",
   "id": "7daaa3df-09c8-4326-b94c-2694a6cec2dc",
   "metadata": {},
   "source": [
    "Ejercicio 4: Carrera de pollos. Crea un programa que simule segundo a segundo la acción de un pollo que recorre una distancia de 100 metros. Pide al usuario que ingrese la velocidad a la que puede correr el pollo, y usando un ciclo while muestra un emoji de pollo 🐥 que se vaya moviendo hacia la derecha en cada impresión, como se muestra en los ejemplos."
   ]
  },
  {
   "cell_type": "code",
   "execution_count": null,
   "id": "f2a396a0-e2d5-4904-b92b-24a487488065",
   "metadata": {},
   "outputs": [],
   "source": [
    "# Paso 1: Pedir al usuario la velocidad del pollo.\n",
    "velocidad = int(input(\"Ingresa la velocidad del pollo (en metros por segundo): \"))\n",
    "\n",
    "# Paso 2: Inicializar variables.\n",
    "distancia = 0  # Distancia inicial recorrida por el pollo.\n",
    "meta = 100     # Distancia total de la carrera.\n",
    "\n",
    "# Paso 3: Simular la carrera.\n",
    "while distancia < meta:\n",
    "    distancia += velocidad  # Incrementar la distancia según la velocidad.\n",
    "    print(\"🐥\" + \"-\" * (distancia // 2))  # Representar el avance del pollo.\n",
    "    if distancia >= meta:\n",
    "        print(\"¡El pollo ha llegado a la meta!\")\n",
    "        break\n"
   ]
  },
  {
   "cell_type": "markdown",
   "id": "144cfbfe-f1eb-46e6-8461-614e186c3af2",
   "metadata": {},
   "source": [
    "### Ejercicio 4: Carrera de pollos\n",
    "\n",
    "1. **Velocidad del pollo:** El usuario ingresa la velocidad (en m/s).\n",
    "2. **Inicialización:** \n",
    "   - La distancia inicial es 0.\n",
    "   - La meta está fijada en 100 metros.\n",
    "3. **Simulación con `while`:** \n",
    "   - El bucle incrementa la distancia según la velocidad ingresada.\n",
    "   - Imprime el avance del pollo usando emojis y guiones.\n",
    "4. **Finalización:** \n",
    "   - El pollo llega a la meta cuando la distancia acumulada es mayor o igual a 100 metros.\n",
    "   - Se imprime un mensaje indicando que terminó la carrera.\n"
   ]
  },
  {
   "cell_type": "code",
   "execution_count": null,
   "id": "26e0380b-095b-485c-aefd-26f70f78dbec",
   "metadata": {},
   "outputs": [],
   "source": []
  },
  {
   "cell_type": "code",
   "execution_count": null,
   "id": "4bfa1c11-a107-4ccc-9171-ebc5bfe6bfc1",
   "metadata": {},
   "outputs": [],
   "source": []
  },
  {
   "cell_type": "code",
   "execution_count": null,
   "id": "cdad9169-19e4-4f9b-8e62-730967d09755",
   "metadata": {},
   "outputs": [],
   "source": []
  }
 ],
 "metadata": {
  "kernelspec": {
   "display_name": "Python 3 (ipykernel)",
   "language": "python",
   "name": "python3"
  },
  "language_info": {
   "codemirror_mode": {
    "name": "ipython",
    "version": 3
   },
   "file_extension": ".py",
   "mimetype": "text/x-python",
   "name": "python",
   "nbconvert_exporter": "python",
   "pygments_lexer": "ipython3",
   "version": "3.13.1"
  }
 },
 "nbformat": 4,
 "nbformat_minor": 5
}
